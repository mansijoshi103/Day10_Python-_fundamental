{
 "cells": [
  {
   "cell_type": "code",
   "execution_count": 1,
   "id": "b21195d6",
   "metadata": {},
   "outputs": [],
   "source": [
    "#CONTINOUOTION WITH DICTIONARY DATATYPE"
   ]
  },
  {
   "cell_type": "code",
   "execution_count": 3,
   "id": "796f3fb4",
   "metadata": {},
   "outputs": [
    {
     "name": "stdout",
     "output_type": "stream",
     "text": [
      "{'mansi': 45, 'riya': 44, 'kiyara': 34, 'priya': 22}\n"
     ]
    }
   ],
   "source": [
    "student={'mansi':45,'riya':44,'kiyara':34,'priya':22}\n",
    "print(student)"
   ]
  },
  {
   "cell_type": "code",
   "execution_count": 4,
   "id": "f0fac019",
   "metadata": {},
   "outputs": [],
   "source": [
    "#Implementation of for loop in dictiories"
   ]
  },
  {
   "cell_type": "code",
   "execution_count": 6,
   "id": "80537a40",
   "metadata": {},
   "outputs": [],
   "source": [
    "#general syntax is\n",
    "\n",
    "for k,v in mainvar.items():\n",
    "    print(k)\n",
    "    print(v)"
   ]
  },
  {
   "cell_type": "code",
   "execution_count": 7,
   "id": "4e792019",
   "metadata": {},
   "outputs": [
    {
     "name": "stdout",
     "output_type": "stream",
     "text": [
      "mansi\n",
      "45\n",
      "riya\n",
      "44\n",
      "kiyara\n",
      "34\n",
      "priya\n",
      "22\n"
     ]
    }
   ],
   "source": [
    "for k,v in student.items():\n",
    "    print(k)\n",
    "    print(v)"
   ]
  },
  {
   "cell_type": "code",
   "execution_count": 8,
   "id": "3d88e2a3",
   "metadata": {},
   "outputs": [
    {
     "name": "stdout",
     "output_type": "stream",
     "text": [
      "Key:mansi\n",
      "Value:45\n",
      "Key:riya\n",
      "Value:44\n",
      "Key:kiyara\n",
      "Value:34\n",
      "Key:priya\n",
      "Value:22\n"
     ]
    }
   ],
   "source": [
    "for k,v in student.items():\n",
    "    print(f\"Key:{k}\")\n",
    "    print(f\"Value:{v}\")"
   ]
  },
  {
   "cell_type": "code",
   "execution_count": 9,
   "id": "e6fc434b",
   "metadata": {},
   "outputs": [
    {
     "name": "stdout",
     "output_type": "stream",
     "text": [
      "Key:mansi\n",
      "Value:45\n",
      "\n",
      "Key:riya\n",
      "Value:44\n",
      "\n",
      "Key:kiyara\n",
      "Value:34\n",
      "\n",
      "Key:priya\n",
      "Value:22\n",
      "\n"
     ]
    }
   ],
   "source": [
    "for k,v in student.items():\n",
    "    print(f\"Key:{k}\")\n",
    "    print(f\"Value:{v}\\n\")"
   ]
  },
  {
   "cell_type": "code",
   "execution_count": null,
   "id": "f86edd6a",
   "metadata": {},
   "outputs": [],
   "source": []
  },
  {
   "cell_type": "code",
   "execution_count": null,
   "id": "83b4fa13",
   "metadata": {},
   "outputs": [],
   "source": [
    "#i want to get only keys from the above list"
   ]
  },
  {
   "cell_type": "code",
   "execution_count": 10,
   "id": "fa79cdef",
   "metadata": {},
   "outputs": [
    {
     "name": "stdout",
     "output_type": "stream",
     "text": [
      "Key:mansi\n",
      "Key:riya\n",
      "Key:kiyara\n",
      "Key:priya\n"
     ]
    }
   ],
   "source": [
    "for k in student.keys():\n",
    "    print(f\"Key:{k}\")\n",
    "    "
   ]
  },
  {
   "cell_type": "code",
   "execution_count": 11,
   "id": "3ce137c8",
   "metadata": {},
   "outputs": [
    {
     "name": "stdout",
     "output_type": "stream",
     "text": [
      "Key:mansi\n",
      "\n",
      "Key:riya\n",
      "\n",
      "Key:kiyara\n",
      "\n",
      "Key:priya\n",
      "\n"
     ]
    }
   ],
   "source": [
    "for k in student.keys():\n",
    "    print(f\"Key:{k}\\n\")\n",
    "    "
   ]
  },
  {
   "cell_type": "code",
   "execution_count": 12,
   "id": "f60c0d81",
   "metadata": {},
   "outputs": [
    {
     "name": "stdout",
     "output_type": "stream",
     "text": [
      "values:45\n",
      "values:44\n",
      "values:34\n",
      "values:22\n"
     ]
    }
   ],
   "source": [
    "for k in student.values():\n",
    "    print(f\"values:{k}\")\n",
    "    "
   ]
  },
  {
   "cell_type": "code",
   "execution_count": 14,
   "id": "c03e3a20",
   "metadata": {},
   "outputs": [
    {
     "name": "stdout",
     "output_type": "stream",
     "text": [
      "values:45\n",
      "\t\n",
      "values:44\n",
      "\t\n",
      "values:34\n",
      "\t\n",
      "values:22\n",
      "\t\n"
     ]
    }
   ],
   "source": [
    "for v in student.values():\n",
    "    print(f\"values:{v}\\n\")\n",
    "    "
   ]
  },
  {
   "cell_type": "code",
   "execution_count": null,
   "id": "b0bdf828",
   "metadata": {},
   "outputs": [],
   "source": []
  }
 ],
 "metadata": {
  "kernelspec": {
   "display_name": "Python 3 (ipykernel)",
   "language": "python",
   "name": "python3"
  },
  "language_info": {
   "codemirror_mode": {
    "name": "ipython",
    "version": 3
   },
   "file_extension": ".py",
   "mimetype": "text/x-python",
   "name": "python",
   "nbconvert_exporter": "python",
   "pygments_lexer": "ipython3",
   "version": "3.9.7"
  }
 },
 "nbformat": 4,
 "nbformat_minor": 5
}
